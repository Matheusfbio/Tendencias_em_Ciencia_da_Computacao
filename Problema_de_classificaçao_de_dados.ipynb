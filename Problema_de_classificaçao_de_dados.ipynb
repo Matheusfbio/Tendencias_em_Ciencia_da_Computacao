{
  "nbformat": 4,
  "nbformat_minor": 0,
  "metadata": {
    "colab": {
      "provenance": [],
      "authorship_tag": "ABX9TyOqbcdq37QiFYQI3KYX530c",
      "include_colab_link": true
    },
    "kernelspec": {
      "name": "python3",
      "display_name": "Python 3"
    },
    "language_info": {
      "name": "python"
    }
  },
  "cells": [
    {
      "cell_type": "markdown",
      "metadata": {
        "id": "view-in-github",
        "colab_type": "text"
      },
      "source": [
        "<a href=\"https://colab.research.google.com/github/Matheusfbio/Tendencias_em_Ciencia_da_Computacao/blob/feat%2FProblem/Problema_de_classifica%C3%A7ao_de_dados.ipynb\" target=\"_parent\"><img src=\"https://colab.research.google.com/assets/colab-badge.svg\" alt=\"Open In Colab\"/></a>"
      ]
    },
    {
      "cell_type": "code",
      "execution_count": null,
      "metadata": {
        "id": "Bb9G47eybK6-"
      },
      "outputs": [],
      "source": [
        "# - Problema: Saúde criar um classificador para identificar as pessoas que podem ser tratadas com a crioterapia\n",
        "# - Classificação binária - Algoritmos Naive Bayes - Modelo Supervisionado de Dados.\n",
        "# - Autor : Matheus Fabio"
      ]
    },
    {
      "cell_type": "code",
      "source": [
        "# Fazendo o import das bibliotecas de ciência de dados (Numpy, Pandas, Scipy, matplolib)\n",
        "import numpy as np\n",
        "import scipy as sp\n",
        "import pandas as pd\n",
        "import matplotlib.pyplot as plt\n",
        "import seaborn as sns"
      ],
      "metadata": {
        "id": "jnF-NIHYikjG"
      },
      "execution_count": null,
      "outputs": []
    }
  ]
}